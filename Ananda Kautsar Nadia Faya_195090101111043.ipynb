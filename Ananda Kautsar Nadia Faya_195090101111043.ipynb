{
 "cells": [
  {
   "cell_type": "code",
   "execution_count": 1,
   "id": "6f03802d-339d-4adc-a7f6-785e09ed465d",
   "metadata": {},
   "outputs": [
    {
     "name": "stdout",
     "output_type": "stream",
     "text": [
      "b'<?xml version=\"1.0\" encoding=\"UTF-8\" ?>\\n<!DOCTYPE eInfoResult PUBLIC \"-//NLM//DTD einfo 20190110//EN\" \"https://eutils.ncbi.nlm.nih.gov/eutils/dtd/20190110/einfo.dtd\">\\n<eInfoResult>\\n<DbList>\\n\\n\\t<DbName>pubmed</DbName>\\n\\t<DbName>protein</DbName>\\n\\t<DbName>nuccore</DbName>\\n\\t<DbName>ipg</DbName>\\n\\t<DbName>nucleotide</DbName>\\n\\t<DbName>structure</DbName>\\n\\t<DbName>genome</DbName>\\n\\t<DbName>annotinfo</DbName>\\n\\t<DbName>assembly</DbName>\\n\\t<DbName>bioproject</DbName>\\n\\t<DbName>biosample</DbName>\\n\\t<DbName>blastdbinfo</DbName>\\n\\t<DbName>books</DbName>\\n\\t<DbName>cdd</DbName>\\n\\t<DbName>clinvar</DbName>\\n\\t<DbName>gap</DbName>\\n\\t<DbName>gapplus</DbName>\\n\\t<DbName>grasp</DbName>\\n\\t<DbName>dbvar</DbName>\\n\\t<DbName>gene</DbName>\\n\\t<DbName>gds</DbName>\\n\\t<DbName>geoprofiles</DbName>\\n\\t<DbName>homologene</DbName>\\n\\t<DbName>medgen</DbName>\\n\\t<DbName>mesh</DbName>\\n\\t<DbName>ncbisearch</DbName>\\n\\t<DbName>nlmcatalog</DbName>\\n\\t<DbName>omim</DbName>\\n\\t<DbName>orgtrack</DbName>\\n\\t<DbName>pmc</DbName>\\n\\t<DbName>popset</DbName>\\n\\t<DbName>proteinclusters</DbName>\\n\\t<DbName>pcassay</DbName>\\n\\t<DbName>protfam</DbName>\\n\\t<DbName>biosystems</DbName>\\n\\t<DbName>pccompound</DbName>\\n\\t<DbName>pcsubstance</DbName>\\n\\t<DbName>seqannot</DbName>\\n\\t<DbName>snp</DbName>\\n\\t<DbName>sra</DbName>\\n\\t<DbName>taxonomy</DbName>\\n\\t<DbName>biocollections</DbName>\\n\\t<DbName>gtr</DbName>\\n</DbList>\\n\\n</eInfoResult>\\n'\n"
     ]
    }
   ],
   "source": [
    "from Bio import Entrez\n",
    "Entrez.email = \"localuser@localhost.localdomain\" \n",
    "\n",
    "#creating handle\n",
    "handle = Entrez.einfo() \n",
    "print(handle.read())\n",
    "handle.close() "
   ]
  },
  {
   "cell_type": "code",
   "execution_count": 2,
   "id": "f4470dc5-e5b4-4e25-beb8-7dce0c430a35",
   "metadata": {},
   "outputs": [
    {
     "name": "stdout",
     "output_type": "stream",
     "text": [
      "{'Count': '66', 'RetMax': '20', 'RetStart': '0', 'IdList': ['2164963376', '78126129', '78126128', '78126127', '78126126', '71142905', '2017492855', '1789122076', '1789121737', '1789121489', '1789121419', '1787385245', '1919569006', '1905314433', '1497456781', '1497456747', '1497456713', '1420860172', '1420860170', '1383744139'], 'TranslationSet': [{'From': 'Phaius tancarvilleae', 'To': '\"Phaius tancarvilleae\"[Organism] OR Phaius tancarvilleae[All Fields]'}], 'TranslationStack': [{'Term': '\"Phaius tancarvilleae\"[Organism]', 'Field': 'Organism', 'Count': '61', 'Explode': 'Y'}, {'Term': 'Phaius tancarvilleae[All Fields]', 'Field': 'All Fields', 'Count': '66', 'Explode': 'N'}, 'OR', 'GROUP'], 'QueryTranslation': '\"Phaius tancarvilleae\"[Organism] OR Phaius tancarvilleae[All Fields]'}\n"
     ]
    }
   ],
   "source": [
    "from Bio import Entrez\n",
    "Entrez.email = \"localuser@localhost.localdomain\" \n",
    "\n",
    "#creating handle\n",
    "handle = Entrez.esearch(db=\"nuccore\", term=\"Phaius tancarvilleae\")\n",
    "record = Entrez.read(handle)\n",
    "print(record)\n",
    "handle.close() "
   ]
  },
  {
   "cell_type": "code",
   "execution_count": 3,
   "id": "9d67f637-e778-4916-ac17-b8db70977858",
   "metadata": {},
   "outputs": [
    {
     "name": "stdout",
     "output_type": "stream",
     "text": [
      "{'Count': '15', 'RetMax': '15', 'RetStart': '0', 'IdList': ['1919569006', '1905314433', '1373448599', '353442554', '187372680', '186972380', '821160634', '821160632', '821160630', '675912509', '675912507', '591290292', '591290286', '126789279', '22122054'], 'TranslationSet': [{'From': 'Phaius tancarvilleae', 'To': '\"Phaius tancarvilleae\"[Organism] OR Phaius tancarvilleae[All Fields]'}], 'TranslationStack': [{'Term': '\"Phaius tancarvilleae\"[Organism]', 'Field': 'Organism', 'Count': '61', 'Explode': 'Y'}, {'Term': 'Phaius tancarvilleae[All Fields]', 'Field': 'All Fields', 'Count': '66', 'Explode': 'N'}, 'OR', 'GROUP', {'Term': 'matK[All Fields]', 'Field': 'All Fields', 'Count': '240456', 'Explode': 'N'}, 'AND', 'GROUP'], 'QueryTranslation': '(\"Phaius tancarvilleae\"[Organism] OR Phaius tancarvilleae[All Fields]) AND matK[All Fields]'}\n"
     ]
    }
   ],
   "source": [
    "from Bio import Entrez\n",
    "Entrez.email = \"localuser@localhost.localdomain\" \n",
    "\n",
    "#creating handle\n",
    "handle = Entrez.esearch(db=\"nuccore\", term=\"Phaius tancarvilleae matK\")\n",
    "record = Entrez.read(handle)\n",
    "print(record)\n",
    "handle.close()"
   ]
  },
  {
   "cell_type": "code",
   "execution_count": 4,
   "id": "97fc286c-1cd4-41c6-b94b-6f25e7757e80",
   "metadata": {},
   "outputs": [
    {
     "name": "stdout",
     "output_type": "stream",
     "text": [
      "LOCUS       AB040205                1563 bp    DNA     linear   PLN 24-JUL-2016\n",
      "DEFINITION  Phaius tancarvilleae chloroplast matK gene for maturase, complete\n",
      "            cds.\n",
      "ACCESSION   AB040205\n",
      "VERSION     AB040205.2\n",
      "KEYWORDS    .\n",
      "SOURCE      chloroplast Phaius tancarvilleae\n",
      "  ORGANISM  Phaius tancarvilleae\n",
      "            Eukaryota; Viridiplantae; Streptophyta; Embryophyta; Tracheophyta;\n",
      "            Spermatophyta; Magnoliopsida; Liliopsida; Asparagales; Orchidaceae;\n",
      "            Epidendroideae; Collabieae; Phaius.\n",
      "REFERENCE   1\n",
      "  AUTHORS   Fuse,S. and Tamura,M.N.\n",
      "  TITLE     A phylogenetic analysis of the plastid matK gene with emphasis on\n",
      "            Melanthiaceae sensu lato\n",
      "  JOURNAL   Plant Biol. 2, 415-427 (2000)\n",
      "REFERENCE   2  (bases 1 to 1563)\n",
      "  AUTHORS   Tamura,M.N.\n",
      "  TITLE     Direct Submission\n",
      "  JOURNAL   Submitted (12-MAR-2000) Contact:Minoru N. Tamura Department of\n",
      "            Botany, Graduate School of Science, Kyoto University;\n",
      "            Kitashirakawa-oiwake-cho, Sakyo-ku, Kyoto 606-8502, Japan\n",
      "COMMENT     On Aug 5, 2002 this sequence version replaced AB040205.1.\n",
      "FEATURES             Location/Qualifiers\n",
      "     source          1..1563\n",
      "                     /organism=\"Phaius tancarvilleae\"\n",
      "                     /organelle=\"plastid:chloroplast\"\n",
      "                     /mol_type=\"genomic DNA\"\n",
      "                     /db_xref=\"taxon:120015\"\n",
      "     gene            1..1551\n",
      "                     /gene=\"matK\"\n",
      "     CDS             1..1551\n",
      "                     /gene=\"matK\"\n",
      "                     /codon_start=1\n",
      "                     /transl_table=11\n",
      "                     /product=\"maturase\"\n",
      "                     /protein_id=\"BAB16813.2\"\n",
      "                     /translation=\"MAELQGYXRLKKDRFRQQNFLYPLLLQEYIYSLAHYHSFNSLIF\n",
      "                     YEPVEILGYDNKSSLVLVKRLITRMYQQKSLISSVNDSNQKENGFWGHKNSFSSHFSS\n",
      "                     QMVSEGFAVILEIPFSSRLVSSLEEKRIPKSQNLRSIHSIFPFLEDKLSHLNYVSDLL\n",
      "                     IPHPIHLEILVQILQCWIKDVPSLHFLRLLFHEYHNLNSILTSKKSIYVFSKRKKRLF\n",
      "                     WFLHNSYVYECEYLFLFIRKQSSYLRSISSGVFLERTHFYGKIEYLIVVCCNFFQSIL\n",
      "                     WFLKDTFIHYVRYQGKAILASKGTFILMKKWKFHLVNFWESYFHFWFQPYRIHIKKLP\n",
      "                     NYSFSFLGYFSSVLKNPLVVRNQMLENSFLINTLTKKLDTIAPVISLIGSLSKAQFCT\n",
      "                     VLGHPISKPIWTDLSDSDILDRFCRIYRNLCRYHSGSSKKQVLYRIKYILRLSCARTL\n",
      "                     ARKHKSTVRTFMRRLGSGFLEEFFLEEEQSLSLIFLQXIPFLLHGLHRERIWYLDIIR\n",
      "                     INDLVDHS\"\n",
      "ORIGIN      \n",
      "        1 atggcagaat tacaaggata tntgagattg aaaaaagata gatttcggca acagaacttc\n",
      "       61 ctatatccac tactccttca ggagtatatt tactcacttg ctcattatca tagcttcaat\n",
      "      121 agtttgattt tttacgaacc tgtggaaatt ctcggttatg acaataaatc tagtttagta\n",
      "      181 cttgtgaaac gtttaattac tcgaatgtat caacagaaat ctttgatttc ttcagtgaat\n",
      "      241 gattctaacc aaaaggaaaa tggattttgg gggcacaaga attctttttc ttctcatttt\n",
      "      301 tcttctcaaa tggtatcaga aggttttgca gtcattctgg aaattccatt ctcgtcgcga\n",
      "      361 ttagtatctt ctcttgaaga aaaaagaata ccaaaatctc agaatttacg atctattcat\n",
      "      421 tcaatatttc cctttttaga ggataaatta tcacatttaa attatgtgtc agatctacta\n",
      "      481 ataccccatc ccatccatct ggaaatcttg gttcaaatcc ttcaatgctg gatcaaagat\n",
      "      541 gttccttctt tgcatttctt gcgattgtta ttccacgaat atcataattt gaatagtatc\n",
      "      601 cttacttcaa agaaatccat ttacgtcttt tcaaaaagaa agaaaagatt attttggttc\n",
      "      661 ctacataatt cttatgtata tgaatgcgaa tatctattcc tgtttattcg taaacagtct\n",
      "      721 tcttatttac gatcaatatc ttctggagtc tttcttgagc gaacacattt ctatggaaaa\n",
      "      781 atagaatatc ttatagtcgt gtgttgtaat ttttttcaga gtatcctatg gttcctcaaa\n",
      "      841 gatactttca tacattatgt tcgatatcaa ggaaaagcga ttctggcttc aaaaggaact\n",
      "      901 tttattctga tgaagaaatg gaaatttcat cttgtaaatt tttgggaatc ttattttcac\n",
      "      961 ttttggtttc aaccttatag aatccatata aaaaaattac ccaactattc cttctctttt\n",
      "     1021 ctggggtatt tttcaagtgt actaaaaaat cctttggtag taagaaatca aatgctagag\n",
      "     1081 aattcatttc taataaatac tctgactaag aaattagata ccatagcccc agttatttct\n",
      "     1141 cttattggat cattgtcgaa agctcaattt tgtactgtat tgggtcatcc tattagtaaa\n",
      "     1201 ccgatctgga ccgatttatc ggattctgat attcttgatc gattttgtcg gatatataga\n",
      "     1261 aatctttgtc gttatcacag cggatcctca aagaaacagg ttttgtatcg tataaagtat\n",
      "     1321 atacttcgac tttcgtgtgc taggactttg gctcgtaaac ataaaagtac agtacgcact\n",
      "     1381 tttatgcgaa gattaggttc gggattctta gaagaatttt ttttggaaga agaacaatct\n",
      "     1441 ctttctttaa ttttccttca annaatccct tttcttttac acggattaca tagagaacgt\n",
      "     1501 atttggtatt tggacattat ccgtatcaat gatctggtgg atcattcatg attgttcatg\n",
      "     1561 aga\n",
      "//\n",
      "\n",
      "\n"
     ]
    }
   ],
   "source": [
    "efetch_handle = Entrez.efetch(db=\"nuccore\", id=\"22122054\", rettype=\"gb\", retmode=\"text\")\n",
    "gbrecord = efetch_handle.read()\n",
    "print(gbrecord)"
   ]
  },
  {
   "cell_type": "code",
   "execution_count": 5,
   "id": "6826c107-2d84-4dde-b4f2-a6433475091b",
   "metadata": {},
   "outputs": [
    {
     "name": "stdout",
     "output_type": "stream",
     "text": [
      ">AB040205.2 Phaius tancarvilleae chloroplast matK gene for maturase, complete cds\n",
      "ATGGCAGAATTACAAGGATATNTGAGATTGAAAAAAGATAGATTTCGGCAACAGAACTTCCTATATCCAC\n",
      "TACTCCTTCAGGAGTATATTTACTCACTTGCTCATTATCATAGCTTCAATAGTTTGATTTTTTACGAACC\n",
      "TGTGGAAATTCTCGGTTATGACAATAAATCTAGTTTAGTACTTGTGAAACGTTTAATTACTCGAATGTAT\n",
      "CAACAGAAATCTTTGATTTCTTCAGTGAATGATTCTAACCAAAAGGAAAATGGATTTTGGGGGCACAAGA\n",
      "ATTCTTTTTCTTCTCATTTTTCTTCTCAAATGGTATCAGAAGGTTTTGCAGTCATTCTGGAAATTCCATT\n",
      "CTCGTCGCGATTAGTATCTTCTCTTGAAGAAAAAAGAATACCAAAATCTCAGAATTTACGATCTATTCAT\n",
      "TCAATATTTCCCTTTTTAGAGGATAAATTATCACATTTAAATTATGTGTCAGATCTACTAATACCCCATC\n",
      "CCATCCATCTGGAAATCTTGGTTCAAATCCTTCAATGCTGGATCAAAGATGTTCCTTCTTTGCATTTCTT\n",
      "GCGATTGTTATTCCACGAATATCATAATTTGAATAGTATCCTTACTTCAAAGAAATCCATTTACGTCTTT\n",
      "TCAAAAAGAAAGAAAAGATTATTTTGGTTCCTACATAATTCTTATGTATATGAATGCGAATATCTATTCC\n",
      "TGTTTATTCGTAAACAGTCTTCTTATTTACGATCAATATCTTCTGGAGTCTTTCTTGAGCGAACACATTT\n",
      "CTATGGAAAAATAGAATATCTTATAGTCGTGTGTTGTAATTTTTTTCAGAGTATCCTATGGTTCCTCAAA\n",
      "GATACTTTCATACATTATGTTCGATATCAAGGAAAAGCGATTCTGGCTTCAAAAGGAACTTTTATTCTGA\n",
      "TGAAGAAATGGAAATTTCATCTTGTAAATTTTTGGGAATCTTATTTTCACTTTTGGTTTCAACCTTATAG\n",
      "AATCCATATAAAAAAATTACCCAACTATTCCTTCTCTTTTCTGGGGTATTTTTCAAGTGTACTAAAAAAT\n",
      "CCTTTGGTAGTAAGAAATCAAATGCTAGAGAATTCATTTCTAATAAATACTCTGACTAAGAAATTAGATA\n",
      "CCATAGCCCCAGTTATTTCTCTTATTGGATCATTGTCGAAAGCTCAATTTTGTACTGTATTGGGTCATCC\n",
      "TATTAGTAAACCGATCTGGACCGATTTATCGGATTCTGATATTCTTGATCGATTTTGTCGGATATATAGA\n",
      "AATCTTTGTCGTTATCACAGCGGATCCTCAAAGAAACAGGTTTTGTATCGTATAAAGTATATACTTCGAC\n",
      "TTTCGTGTGCTAGGACTTTGGCTCGTAAACATAAAAGTACAGTACGCACTTTTATGCGAAGATTAGGTTC\n",
      "GGGATTCTTAGAAGAATTTTTTTTGGAAGAAGAACAATCTCTTTCTTTAATTTTCCTTCAANNAATCCCT\n",
      "TTTCTTTTACACGGATTACATAGAGAACGTATTTGGTATTTGGACATTATCCGTATCAATGATCTGGTGG\n",
      "ATCATTCATGATTGTTCATGAGA\n",
      "\n",
      "\n"
     ]
    }
   ],
   "source": [
    "efetch_handle = Entrez.efetch(db=\"nuccore\", id=\"22122054\", rettype=\"fasta\", retmode=\"text\")\n",
    "fasta_record = efetch_handle.read()\n",
    "print(fasta_record)\n",
    "efetch_handle.close() "
   ]
  },
  {
   "cell_type": "code",
   "execution_count": 6,
   "id": "4d9e125e-77e6-4f2e-ba19-4dbf6d65e535",
   "metadata": {},
   "outputs": [
    {
     "name": "stdout",
     "output_type": "stream",
     "text": [
      "FASTA Download\n"
     ]
    }
   ],
   "source": [
    "import os \n",
    "from Bio import Entrez\n",
    "Entrez.email = \"localuser@localhost.localdomain\" \n",
    "#creating EFetch handle\n",
    "filename = \"Phaius tancarvilleae chloroplast matK gene for maturase, complete cds.gbk\" \n",
    "\n",
    "if not os.path.isfile(filename):\n",
    "    # Downloading file...\n",
    "    efetch_handle = Entrez.efetch(db=\"nuccore\", id=\"22122054\", rettype=\"fasta\", retmode=\"text\")\n",
    "    output_file_handle = open(filename, \"w\")\n",
    "    output_file_handle.write(efetch_handle.read())\n",
    "    output_file_handle.close()\n",
    "    efetch_handle.close()\n",
    "    print(\"FASTA Download\")"
   ]
  },
  {
   "cell_type": "code",
   "execution_count": 7,
   "id": "bb25712d-3576-49d2-975a-a935051fa48e",
   "metadata": {},
   "outputs": [
    {
     "name": "stdout",
     "output_type": "stream",
     "text": [
      "GB Download\n"
     ]
    }
   ],
   "source": [
    "filename = \"Phaius tancarvilleae chloroplast, complete genome.gbk\" \n",
    "\n",
    "if not os.path.isfile(filename):\n",
    "    # Downloading file...\n",
    "    efetch_handle = Entrez.efetch(db=\"nuccore\", id=\"1905314433\", rettype=\"gb\", retmode=\"text\")\n",
    "    output_file_handle = open(filename, \"w\")\n",
    "    output_file_handle.write(efetch_handle.read())\n",
    "    output_file_handle.close()\n",
    "    efetch_handle.close()\n",
    "    print(\"GB Download\")"
   ]
  },
  {
   "cell_type": "code",
   "execution_count": 8,
   "id": "bdd159b8-88a1-4971-9063-7e49615c0a4a",
   "metadata": {},
   "outputs": [
    {
     "name": "stdout",
     "output_type": "stream",
     "text": [
      ">matK|Phaius tancarvilleae voucher Z.J.Liu6632 chloroplast, complete genome\n",
      "ATGTATTTAAATGGCAGAATTACAAGGATATTGAGATTGAAAAAAGATAGATTTCGGCAACAGAACTTCCTATATCCACTACTCCTTCAGGAGTATATTTACTCACTTGCTCATTATCATAGCTTCAATAGTTTGATTTTTTACGAACCTGTGGAAATTCTCGGTTATGACAATAAATCTAGTTTAGTACTTGTGAAACGTTTAATTACTCGAATGTATCAACAGAAATCTTTGATTTCTTCAGTGAATGATTCTAACCAAAAGGAAAATGGATTTTGGGGGCACAAGAATTCTTTTTCTTCTCATTTTTCTTCTCAAATGGTATCAGAAGGTTTTGCAGTCATTCTGGAAATTCCATTCTCGTCGCGATTAGTATCTTCTCTTGAAGAAAAAAGAATACCAAAATCTCAGAATTTACGATCTATTCATTCAATATTTCCCTTTTTAGAGGATAAATTATCACATTTAAATTATGTGTCAGATCTACTAATACCCCATCCCATCCATCTGGAAATCTTGGTTCAAATCCTTCAATGCTGGATCAAAGATGTTCCTTCTTTGCATTTCTTGCGATTGTTATTCCACGAATATCATAATTTGAATAGTATCCTTACTTCAAAGAAATCCATTTACGTCTTTTCAAAAAGAAAGAAAAGATTATTTTGGTTCCTACATAATTCTTATGTATATGAATGCGAATATCTATTCCTGTTTATTCGTAAACAGTCTTCTTATTTACGATCAATATCTTCTGGAGTCTTTCTTGAGCGAACACATTTCTATGGAAAAATAGAATATCTTATAGTCGTGTGTTGTAATTTTTTTCAGAGTATCCTATGGTTCCTCAAAGATACTTTCATACATTATGTTCGATATCAAGGAAAAGCGATTCTGGCTTCAAAAGGAACTTTTATTCTGATGAAGAAATGGAAATTTCATCTTGTAAATTTTTGGGAATCTTATTTTCACTTTTGGTTTCAACCTTATAGAATCCATATAAAAAAATTACCCAACTATTCCTTCTCTTTTCTGGGGTATTTTTCAAGTGTACTAAAAAATCCTTTGGTAGTAAGAAATCAAATGCTAGAGAATTCATTTCTAATAAATACTCTGACTAAGAAATTAGATACCATAGCCCCAGTTATTTCTCTTATTGGATCATTGTCGAAAGCTCAATTTTGTACTGTATTGGGTCATCCTATTAGTAAACCGATCTGGACCGATTTATCGGATTCTGATATTCTTGATCGATTTTGTCGGATATATAGAAATCTTTGTCGTTATCACAGCGGATCCTCAAAGAAACAGGTTTTGTATCGTATAAAGTATATACTTCGACTTTCGTGTGCTAGGACTTTGGCTCGTAAACATAAAAGTACAGTACGCACTTTTATGCGAAGATTAGGTTCGGGATTCTTAGAAGAATTTTTTTTGGAAGAAGAACAATCTCTTTCTTTAATTTTCCTTCAAAAAATCCCTTTTCTTTTACACGGATTACATAGAGAACGTATTTGGTATTTGGACATTATCCGTATCAATGATCTGGTGGATCATTCATGA\n"
     ]
    }
   ],
   "source": [
    "from Bio import SeqIO\n",
    "\n",
    "GoI = \"matK\" \n",
    "\n",
    "for genome in SeqIO.parse(\"Phaius tancarvilleae chloroplast, complete genome.gbk\",\"genbank\"):\n",
    "    for gene in genome.features:\n",
    "        if gene.type != \"CDS\":\n",
    "            continue\n",
    "        if \"gene\" not in gene.qualifiers:\n",
    "            continue\n",
    "        if GoI not in gene.qualifiers[\"gene\"][0]: \n",
    "            continue\n",
    "        gene_seq = gene.extract(genome.seq)\n",
    "\n",
    "GoI_fasta = \">%s|%s\\n%s\" % (GoI, genome.description, gene_seq)\n",
    "print(GoI_fasta)"
   ]
  },
  {
   "cell_type": "code",
   "execution_count": 9,
   "id": "3539e6fc-7b99-474e-9ee0-9c64a41115aa",
   "metadata": {},
   "outputs": [
    {
     "name": "stdout",
     "output_type": "stream",
     "text": [
      "FASTA Download\n"
     ]
    }
   ],
   "source": [
    "GoI = \"matK\"\n",
    "\n",
    "for genome in SeqIO.parse(\"Phaius tancarvilleae chloroplast, complete genome.gbk\",\"genbank\"):\n",
    "    for gene in genome.features:\n",
    "        if gene.type != \"CDS\":\n",
    "            continue\n",
    "        if \"gene\" not in gene.qualifiers:\n",
    "            continue\n",
    "        if GoI not in gene.qualifiers[\"gene\"][0]: \n",
    "            continue\n",
    "        gene_seq = gene.extract(genome.seq)\n",
    "\n",
    "GoI_fasta = \">%s|%s\\n%s\" % (GoI, genome.description, gene_seq)\n",
    "with open(\"GoI_fasta.fasta\",\"w\") as f:\n",
    "    f.write(GoI_fasta)\n",
    "    print(\"FASTA Download\")"
   ]
  },
  {
   "cell_type": "code",
   "execution_count": null,
   "id": "6b6e691e-1afd-4323-9d30-07dd4bd88b5e",
   "metadata": {},
   "outputs": [],
   "source": []
  }
 ],
 "metadata": {
  "kernelspec": {
   "display_name": "Python 3 (ipykernel)",
   "language": "python",
   "name": "python3"
  },
  "language_info": {
   "codemirror_mode": {
    "name": "ipython",
    "version": 3
   },
   "file_extension": ".py",
   "mimetype": "text/x-python",
   "name": "python",
   "nbconvert_exporter": "python",
   "pygments_lexer": "ipython3",
   "version": "3.9.7"
  }
 },
 "nbformat": 4,
 "nbformat_minor": 5
}
